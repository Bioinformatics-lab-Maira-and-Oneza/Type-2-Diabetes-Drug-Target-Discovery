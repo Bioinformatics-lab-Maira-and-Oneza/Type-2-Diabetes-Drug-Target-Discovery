{
 "cells": [
  {
   "cell_type": "code",
   "execution_count": 1,
   "id": "c8cc2126",
   "metadata": {},
   "outputs": [
    {
     "name": "stderr",
     "output_type": "stream",
     "text": [
      "13-Aug-2025 16:36:55 DEBUG utils - Directory ../data/raw already exists. Skipping.\n",
      "13-Aug-2025 16:36:55 INFO GEOparse - File already exist: using local version.\n",
      "13-Aug-2025 16:36:55 INFO GEOparse - Parsing ../data/raw\\GSE288708_family.soft.gz: \n",
      "13-Aug-2025 16:36:55 DEBUG GEOparse - DATABASE: GeoMiame\n",
      "13-Aug-2025 16:36:55 DEBUG GEOparse - SERIES: GSE288708\n",
      "13-Aug-2025 16:36:55 DEBUG GEOparse - PLATFORM: GPL24676\n",
      "13-Aug-2025 16:36:55 DEBUG GEOparse - SAMPLE: GSM8773456\n",
      "13-Aug-2025 16:36:55 DEBUG GEOparse - SAMPLE: GSM8773457\n",
      "13-Aug-2025 16:36:55 DEBUG GEOparse - SAMPLE: GSM8773458\n",
      "13-Aug-2025 16:36:55 DEBUG GEOparse - SAMPLE: GSM8773459\n",
      "13-Aug-2025 16:36:55 DEBUG GEOparse - SAMPLE: GSM8773460\n",
      "13-Aug-2025 16:36:55 DEBUG GEOparse - SAMPLE: GSM8773461\n",
      "13-Aug-2025 16:36:55 DEBUG GEOparse - SAMPLE: GSM8773462\n",
      "13-Aug-2025 16:36:55 DEBUG GEOparse - SAMPLE: GSM8773463\n",
      "13-Aug-2025 16:36:55 DEBUG GEOparse - SAMPLE: GSM8773464\n",
      "13-Aug-2025 16:36:55 DEBUG GEOparse - SAMPLE: GSM8773465\n",
      "13-Aug-2025 16:36:55 DEBUG GEOparse - SAMPLE: GSM8773466\n",
      "13-Aug-2025 16:36:55 DEBUG GEOparse - SAMPLE: GSM8773467\n",
      "13-Aug-2025 16:36:55 DEBUG GEOparse - SAMPLE: GSM8773468\n",
      "13-Aug-2025 16:36:55 DEBUG GEOparse - SAMPLE: GSM8773469\n",
      "13-Aug-2025 16:36:55 DEBUG GEOparse - SAMPLE: GSM8773470\n",
      "13-Aug-2025 16:36:55 DEBUG GEOparse - SAMPLE: GSM8773471\n",
      "13-Aug-2025 16:36:55 DEBUG GEOparse - SAMPLE: GSM8773472\n",
      "13-Aug-2025 16:36:55 DEBUG GEOparse - SAMPLE: GSM8773473\n",
      "13-Aug-2025 16:36:55 DEBUG GEOparse - SAMPLE: GSM8773474\n",
      "13-Aug-2025 16:36:55 DEBUG GEOparse - SAMPLE: GSM8773475\n"
     ]
    },
    {
     "name": "stdout",
     "output_type": "stream",
     "text": [
      "<SERIES: GSE288708 - 20 SAMPLES, 1 d(s)>\n"
     ]
    }
   ],
   "source": [
    "import GEOparse\n",
    "\n",
    "# Download the dataset (only once; will reuse if already downloaded)\n",
    "gse = GEOparse.get_GEO(geo=\"GSE288708\", destdir=\"../data/raw\", how=\"full\")\n",
    "\n",
    "# Print basic summary\n",
    "print(gse)"
   ]
  },
  {
   "cell_type": "code",
   "execution_count": 16,
   "id": "a90bc1ad",
   "metadata": {},
   "outputs": [
    {
     "name": "stdout",
     "output_type": "stream",
     "text": [
      "{'GSM8773456': <SAMPLE: GSM8773456>, 'GSM8773457': <SAMPLE: GSM8773457>, 'GSM8773458': <SAMPLE: GSM8773458>, 'GSM8773459': <SAMPLE: GSM8773459>, 'GSM8773460': <SAMPLE: GSM8773460>, 'GSM8773461': <SAMPLE: GSM8773461>, 'GSM8773462': <SAMPLE: GSM8773462>, 'GSM8773463': <SAMPLE: GSM8773463>, 'GSM8773464': <SAMPLE: GSM8773464>, 'GSM8773465': <SAMPLE: GSM8773465>, 'GSM8773466': <SAMPLE: GSM8773466>, 'GSM8773467': <SAMPLE: GSM8773467>, 'GSM8773468': <SAMPLE: GSM8773468>, 'GSM8773469': <SAMPLE: GSM8773469>, 'GSM8773470': <SAMPLE: GSM8773470>, 'GSM8773471': <SAMPLE: GSM8773471>, 'GSM8773472': <SAMPLE: GSM8773472>, 'GSM8773473': <SAMPLE: GSM8773473>, 'GSM8773474': <SAMPLE: GSM8773474>, 'GSM8773475': <SAMPLE: GSM8773475>}\n"
     ]
    }
   ],
   "source": [
    "print(gse.gsms)"
   ]
  },
  {
   "cell_type": "code",
   "execution_count": 3,
   "id": "4c6e696c",
   "metadata": {},
   "outputs": [
    {
     "data": {
      "text/plain": [
       "['GSM8773456', 'GSM8773457', 'GSM8773458', 'GSM8773459', 'GSM8773460']"
      ]
     },
     "execution_count": 3,
     "metadata": {},
     "output_type": "execute_result"
    }
   ],
   "source": [
    "# List first few sample IDs See what sample IDs exist\n",
    "list(gse.gsms.keys())[:5]"
   ]
  },
  {
   "cell_type": "code",
   "execution_count": 4,
   "id": "1110b2e6",
   "metadata": {},
   "outputs": [
    {
     "data": {
      "text/plain": [
       "{'title': ['CH1 - Control Hypoxia'],\n",
       " 'geo_accession': ['GSM8773456'],\n",
       " 'status': ['Public on Jun 16 2025'],\n",
       " 'submission_date': ['Feb 04 2025'],\n",
       " 'last_update_date': ['Jun 16 2025'],\n",
       " 'type': ['SRA'],\n",
       " 'channel_count': ['1'],\n",
       " 'source_name_ch1': ['IMR90'],\n",
       " 'organism_ch1': ['Homo sapiens'],\n",
       " 'taxid_ch1': ['9606'],\n",
       " 'characteristics_ch1': ['cell line: IMR90',\n",
       "  'cell type: hiPSC cardiomyocytes',\n",
       "  'treatment: Control Hypoxia'],\n",
       " 'treatment_protocol_ch1': ['Insulin resistance (IR) was induced in hiPSC-CMs or EHTs using a six-day protocol with two media types: glucose-free IR media (3 days) and glucose-enriched IR media (3 days), both containing palmitic acid, insulin, and supplements. Controls were cultured in maturation media. For some experiments, hiPSC-CMs were exposed to high palmitate media (0.4 mM palmitate) or hypoxia (2% O2 for 16 hours), with controls in normoxia (21% O2).'],\n",
       " 'growth_protocol_ch1': ['IMR90 human induced pluripotent stem cells (hiPSCs) were differentiated into hiPSC-derived cardiomyocytes (hiPSC-CMs) using a Wnt signaling modulation protocol. Cells were grown to confluency in TeSR-E8 media on Matrigel-coated plates, then differentiated over 15 days. Key steps included treatment with CHIR99021 (days 0-1), Wnt-C59 (day 3), and glucose-free media (days 11-13) for metabolic selection. From day 15, cells were maintained in RB+ media (RPMI with B27 complete).'],\n",
       " 'molecule_ch1': ['polyA RNA'],\n",
       " 'extract_protocol_ch1': ['Cells were washed in PBS, lysed using the RNAeasy kit QIAzol lysis agent, scraped, and homogenised using needles before being flash-frozen in liquid nitrogen. RNA was extracted from the lysates using the Qiagen RNeasy Mini kit following the manufacturer’s protocol.',\n",
       "  'Stranded paired 150-bp poly-A enrichment protocol by Novogene'],\n",
       " 'description': ['Library name: CH1',\n",
       "  'Column name in raw counts all_sample_deseq.csv: CH1'],\n",
       " 'data_processing': ['Quality control was performed with FastQC, trimming with cutadapt to remove adaptors and low-quality sequences',\n",
       "  'Transcript quantification for hiPSC-CM was executed with Salmon using decoys and a gentrome indexed from the gencode v44 GRCh38',\n",
       "  'Gene level counts were summarised using tximport',\n",
       "  'Assembly: gencode v44 GRCh38',\n",
       "  'Supplementary files format and content: raw gene counts in csv format'],\n",
       " 'platform_id': ['GPL24676'],\n",
       " 'contact_name': ['Ryan,Daniel,Carter'],\n",
       " 'contact_email': ['ryan.carter@dpag.ox.ac.uk'],\n",
       " 'contact_department': ['DPAG'],\n",
       " 'contact_institute': ['University of Oxford'],\n",
       " 'contact_address': ['Sherrington Building, Sherrington Rd'],\n",
       " 'contact_city': ['Oxford'],\n",
       " 'contact_zip/postal_code': ['OX1 3PT'],\n",
       " 'contact_country': ['United Kingdom'],\n",
       " 'instrument_model': ['Illumina NovaSeq 6000'],\n",
       " 'library_selection': ['cDNA'],\n",
       " 'library_source': ['transcriptomic'],\n",
       " 'library_strategy': ['RNA-Seq'],\n",
       " 'relation': ['BioSample: https://www.ncbi.nlm.nih.gov/biosample/SAMN46543798',\n",
       "  'SRA: https://www.ncbi.nlm.nih.gov/sra?term=SRX27565633'],\n",
       " 'supplementary_file_1': ['NONE'],\n",
       " 'series_id': ['GSE288708'],\n",
       " 'data_row_count': ['0']}"
      ]
     },
     "execution_count": 4,
     "metadata": {},
     "output_type": "execute_result"
    }
   ],
   "source": [
    "# Look at metadata for one sample\n",
    "gsm = gse.gsms[\"GSM8773456\"]\n",
    "gsm.metadata"
   ]
  },
  {
   "cell_type": "code",
   "execution_count": 5,
   "id": "d53663b7",
   "metadata": {},
   "outputs": [
    {
     "data": {
      "text/plain": [
       "{'title': ['IRN2 - Insulin Resistant Normoxia'],\n",
       " 'geo_accession': ['GSM8773472'],\n",
       " 'status': ['Public on Jun 16 2025'],\n",
       " 'submission_date': ['Feb 04 2025'],\n",
       " 'last_update_date': ['Jun 16 2025'],\n",
       " 'type': ['SRA'],\n",
       " 'channel_count': ['1'],\n",
       " 'source_name_ch1': ['IMR90'],\n",
       " 'organism_ch1': ['Homo sapiens'],\n",
       " 'taxid_ch1': ['9606'],\n",
       " 'characteristics_ch1': ['cell line: IMR90',\n",
       "  'cell type: hiPSC cardiomyocytes',\n",
       "  'treatment: Insulin Resistant Normoxia'],\n",
       " 'treatment_protocol_ch1': ['Insulin resistance (IR) was induced in hiPSC-CMs or EHTs using a six-day protocol with two media types: glucose-free IR media (3 days) and glucose-enriched IR media (3 days), both containing palmitic acid, insulin, and supplements. Controls were cultured in maturation media. For some experiments, hiPSC-CMs were exposed to high palmitate media (0.4 mM palmitate) or hypoxia (2% O2 for 16 hours), with controls in normoxia (21% O2).'],\n",
       " 'growth_protocol_ch1': ['IMR90 human induced pluripotent stem cells (hiPSCs) were differentiated into hiPSC-derived cardiomyocytes (hiPSC-CMs) using a Wnt signaling modulation protocol. Cells were grown to confluency in TeSR-E8 media on Matrigel-coated plates, then differentiated over 15 days. Key steps included treatment with CHIR99021 (days 0-1), Wnt-C59 (day 3), and glucose-free media (days 11-13) for metabolic selection. From day 15, cells were maintained in RB+ media (RPMI with B27 complete).'],\n",
       " 'molecule_ch1': ['polyA RNA'],\n",
       " 'extract_protocol_ch1': ['Cells were washed in PBS, lysed using the RNAeasy kit QIAzol lysis agent, scraped, and homogenised using needles before being flash-frozen in liquid nitrogen. RNA was extracted from the lysates using the Qiagen RNeasy Mini kit following the manufacturer’s protocol.',\n",
       "  'Stranded paired 150-bp poly-A enrichment protocol by Novogene'],\n",
       " 'description': ['Library name: IRN2',\n",
       "  'Column name in raw counts all_sample_deseq.csv: IRN2'],\n",
       " 'data_processing': ['Quality control was performed with FastQC, trimming with cutadapt to remove adaptors and low-quality sequences',\n",
       "  'Transcript quantification for hiPSC-CM was executed with Salmon using decoys and a gentrome indexed from the gencode v44 GRCh38',\n",
       "  'Gene level counts were summarised using tximport',\n",
       "  'Assembly: gencode v44 GRCh38',\n",
       "  'Supplementary files format and content: raw gene counts in csv format'],\n",
       " 'platform_id': ['GPL24676'],\n",
       " 'contact_name': ['Ryan,Daniel,Carter'],\n",
       " 'contact_email': ['ryan.carter@dpag.ox.ac.uk'],\n",
       " 'contact_department': ['DPAG'],\n",
       " 'contact_institute': ['University of Oxford'],\n",
       " 'contact_address': ['Sherrington Building, Sherrington Rd'],\n",
       " 'contact_city': ['Oxford'],\n",
       " 'contact_zip/postal_code': ['OX1 3PT'],\n",
       " 'contact_country': ['United Kingdom'],\n",
       " 'instrument_model': ['Illumina NovaSeq 6000'],\n",
       " 'library_selection': ['cDNA'],\n",
       " 'library_source': ['transcriptomic'],\n",
       " 'library_strategy': ['RNA-Seq'],\n",
       " 'relation': ['BioSample: https://www.ncbi.nlm.nih.gov/biosample/SAMN46543782',\n",
       "  'SRA: https://www.ncbi.nlm.nih.gov/sra?term=SRX27565649'],\n",
       " 'supplementary_file_1': ['NONE'],\n",
       " 'series_id': ['GSE288708'],\n",
       " 'data_row_count': ['0']}"
      ]
     },
     "execution_count": 5,
     "metadata": {},
     "output_type": "execute_result"
    }
   ],
   "source": [
    "gsm = gse.gsms[\"GSM8773472\"]\n",
    "gsm.metadata"
   ]
  },
  {
   "cell_type": "code",
   "execution_count": 6,
   "id": "7a43ec92",
   "metadata": {},
   "outputs": [
    {
     "data": {
      "text/plain": [
       "{'title': ['CN3 - Control Normoxia'],\n",
       " 'geo_accession': ['GSM8773463'],\n",
       " 'status': ['Public on Jun 16 2025'],\n",
       " 'submission_date': ['Feb 04 2025'],\n",
       " 'last_update_date': ['Jun 16 2025'],\n",
       " 'type': ['SRA'],\n",
       " 'channel_count': ['1'],\n",
       " 'source_name_ch1': ['IMR90'],\n",
       " 'organism_ch1': ['Homo sapiens'],\n",
       " 'taxid_ch1': ['9606'],\n",
       " 'characteristics_ch1': ['cell line: IMR90',\n",
       "  'cell type: hiPSC cardiomyocytes',\n",
       "  'treatment: Control Normoxia'],\n",
       " 'treatment_protocol_ch1': ['Insulin resistance (IR) was induced in hiPSC-CMs or EHTs using a six-day protocol with two media types: glucose-free IR media (3 days) and glucose-enriched IR media (3 days), both containing palmitic acid, insulin, and supplements. Controls were cultured in maturation media. For some experiments, hiPSC-CMs were exposed to high palmitate media (0.4 mM palmitate) or hypoxia (2% O2 for 16 hours), with controls in normoxia (21% O2).'],\n",
       " 'growth_protocol_ch1': ['IMR90 human induced pluripotent stem cells (hiPSCs) were differentiated into hiPSC-derived cardiomyocytes (hiPSC-CMs) using a Wnt signaling modulation protocol. Cells were grown to confluency in TeSR-E8 media on Matrigel-coated plates, then differentiated over 15 days. Key steps included treatment with CHIR99021 (days 0-1), Wnt-C59 (day 3), and glucose-free media (days 11-13) for metabolic selection. From day 15, cells were maintained in RB+ media (RPMI with B27 complete).'],\n",
       " 'molecule_ch1': ['polyA RNA'],\n",
       " 'extract_protocol_ch1': ['Cells were washed in PBS, lysed using the RNAeasy kit QIAzol lysis agent, scraped, and homogenised using needles before being flash-frozen in liquid nitrogen. RNA was extracted from the lysates using the Qiagen RNeasy Mini kit following the manufacturer’s protocol.',\n",
       "  'Stranded paired 150-bp poly-A enrichment protocol by Novogene'],\n",
       " 'description': ['Library name: CN3',\n",
       "  'Column name in raw counts all_sample_deseq.csv: CN3'],\n",
       " 'data_processing': ['Quality control was performed with FastQC, trimming with cutadapt to remove adaptors and low-quality sequences',\n",
       "  'Transcript quantification for hiPSC-CM was executed with Salmon using decoys and a gentrome indexed from the gencode v44 GRCh38',\n",
       "  'Gene level counts were summarised using tximport',\n",
       "  'Assembly: gencode v44 GRCh38',\n",
       "  'Supplementary files format and content: raw gene counts in csv format'],\n",
       " 'platform_id': ['GPL24676'],\n",
       " 'contact_name': ['Ryan,Daniel,Carter'],\n",
       " 'contact_email': ['ryan.carter@dpag.ox.ac.uk'],\n",
       " 'contact_department': ['DPAG'],\n",
       " 'contact_institute': ['University of Oxford'],\n",
       " 'contact_address': ['Sherrington Building, Sherrington Rd'],\n",
       " 'contact_city': ['Oxford'],\n",
       " 'contact_zip/postal_code': ['OX1 3PT'],\n",
       " 'contact_country': ['United Kingdom'],\n",
       " 'instrument_model': ['Illumina NovaSeq 6000'],\n",
       " 'library_selection': ['cDNA'],\n",
       " 'library_source': ['transcriptomic'],\n",
       " 'library_strategy': ['RNA-Seq'],\n",
       " 'relation': ['BioSample: https://www.ncbi.nlm.nih.gov/biosample/SAMN46543791',\n",
       "  'SRA: https://www.ncbi.nlm.nih.gov/sra?term=SRX27565640'],\n",
       " 'supplementary_file_1': ['NONE'],\n",
       " 'series_id': ['GSE288708'],\n",
       " 'data_row_count': ['0']}"
      ]
     },
     "execution_count": 6,
     "metadata": {},
     "output_type": "execute_result"
    }
   ],
   "source": [
    "gsm = gse.gsms[\"GSM8773463\"]\n",
    "gsm.metadata"
   ]
  },
  {
   "cell_type": "code",
   "execution_count": 7,
   "id": "2a79c0c3",
   "metadata": {},
   "outputs": [
    {
     "name": "stdout",
     "output_type": "stream",
     "text": [
      "dict_items([('GSM8773456', <SAMPLE: GSM8773456>), ('GSM8773457', <SAMPLE: GSM8773457>), ('GSM8773458', <SAMPLE: GSM8773458>), ('GSM8773459', <SAMPLE: GSM8773459>), ('GSM8773460', <SAMPLE: GSM8773460>), ('GSM8773461', <SAMPLE: GSM8773461>), ('GSM8773462', <SAMPLE: GSM8773462>), ('GSM8773463', <SAMPLE: GSM8773463>), ('GSM8773464', <SAMPLE: GSM8773464>), ('GSM8773465', <SAMPLE: GSM8773465>), ('GSM8773466', <SAMPLE: GSM8773466>), ('GSM8773467', <SAMPLE: GSM8773467>), ('GSM8773468', <SAMPLE: GSM8773468>), ('GSM8773469', <SAMPLE: GSM8773469>), ('GSM8773470', <SAMPLE: GSM8773470>), ('GSM8773471', <SAMPLE: GSM8773471>), ('GSM8773472', <SAMPLE: GSM8773472>), ('GSM8773473', <SAMPLE: GSM8773473>), ('GSM8773474', <SAMPLE: GSM8773474>), ('GSM8773475', <SAMPLE: GSM8773475>)])\n"
     ]
    }
   ],
   "source": [
    "print(gse.gsms.items())"
   ]
  },
  {
   "cell_type": "code",
   "execution_count": 8,
   "id": "399a1ebe",
   "metadata": {},
   "outputs": [
    {
     "name": "stdout",
     "output_type": "stream",
     "text": [
      "✅ Metadata saved to: ../data/processed/sample_metadata.csv\n",
      "       Sample                  Title Treatment   Oxygen Replicate Group\n",
      "0  GSM8773456  CH1 - Control Hypoxia   Control  Hypoxia         1    CH\n",
      "1  GSM8773457  CH2 - Control Hypoxia   Control  Hypoxia         2    CH\n",
      "2  GSM8773458  CH3 - Control Hypoxia   Control  Hypoxia         3    CH\n",
      "3  GSM8773459  CH4 - Control Hypoxia   Control  Hypoxia         4    CH\n",
      "4  GSM8773460  CH5 - Control Hypoxia   Control  Hypoxia         5    CH\n"
     ]
    },
    {
     "data": {
      "text/plain": [
       "(20, 6)"
      ]
     },
     "execution_count": 8,
     "metadata": {},
     "output_type": "execute_result"
    }
   ],
   "source": [
    "import os\n",
    "import pandas as pd\n",
    "\n",
    "# Ensure processed folder exists\n",
    "os.makedirs(\"../data/processed\", exist_ok=True)\n",
    "\n",
    "# Step 3 — Parse metadata from titles\n",
    "sample_data = []\n",
    "\n",
    "for gsm_name, gsm in gse.gsms.items():\n",
    "    title = gsm.metadata.get(\"title\", [\"\"])[0].strip()\n",
    "\n",
    "    # Skip entries with missing titles (to avoid blank row)\n",
    "    if title == \"\":\n",
    "        continue\n",
    "    \n",
    "    # Treatment\n",
    "    if title.startswith(\"IR\"):\n",
    "        treatment = \"Insulin Resistant\"\n",
    "    else:\n",
    "        treatment = \"Control\"\n",
    "\n",
    "    # Oxygen\n",
    "    if \"Hypoxia\" in title:\n",
    "        oxygen = \"Hypoxia\"\n",
    "    else:\n",
    "        oxygen = \"Normoxia\"\n",
    "\n",
    "    # Replicate\n",
    "    replicate = ''.join([c for c in title if c.isdigit()])\n",
    "\n",
    "    # Group code\n",
    "    if treatment == \"Control\" and oxygen == \"Normoxia\":\n",
    "        group = \"CN\"\n",
    "    elif treatment == \"Control\" and oxygen == \"Hypoxia\":\n",
    "        group = \"CH\"\n",
    "    elif treatment == \"Insulin Resistant\" and oxygen == \"Normoxia\":\n",
    "        group = \"IRN\"\n",
    "    else:\n",
    "        group = \"IRH\"\n",
    "\n",
    "    sample_data.append({\n",
    "        \"Sample\": gsm_name,\n",
    "        \"Title\": title,\n",
    "        \"Treatment\": treatment,\n",
    "        \"Oxygen\": oxygen,\n",
    "        \"Replicate\": replicate,\n",
    "        \"Group\": group\n",
    "    })\n",
    "\n",
    "# Step 4 — Save CSV\n",
    "meta_df = pd.DataFrame(sample_data)\n",
    "meta_df = meta_df[meta_df[\"Sample\"].notnull()]\n",
    "csv_path= \"../data/processed/sample_metadata.csv\"\n",
    "meta_df.to_csv(csv_path, index=False)\n",
    "\n",
    "print(f\"✅ Metadata saved to: {csv_path}\")\n",
    "print(meta_df.head())\n",
    "meta_df.shape\n",
    "\n",
    "\n",
    "\n",
    "\n"
   ]
  },
  {
   "cell_type": "code",
   "execution_count": 9,
   "id": "f9cded25",
   "metadata": {},
   "outputs": [
    {
     "name": "stderr",
     "output_type": "stream",
     "text": [
      "C:\\Users\\DELL\\AppData\\Local\\Temp\\ipykernel_11308\\1568119637.py:17: FutureWarning: \n",
      "\n",
      "Passing `palette` without assigning `hue` is deprecated and will be removed in v0.14.0. Assign the `x` variable to `hue` and set `legend=False` for the same effect.\n",
      "\n",
      "  ax = sns.countplot(data=meta_df, x=\"Group\", palette=\"viridis\", edgecolor=\".2\")\n"
     ]
    },
    {
     "data": {
      "image/png": "[encoded data removed]",
      "text/plain": [
       "<Figure size 800x600 with 1 Axes>"
      ]
     },
     "metadata": {},
     "output_type": "display_data"
    },
    {
     "name": "stdout",
     "output_type": "stream",
     "text": [
      "✅ Plot saved to: ../results/plots/sample_distribution.png\n"
     ]
    }
   ],
   "source": [
    "# Visualize Sample Groups\n",
    "# Exploratory Data Analysis (EDA) before diving into differential gene expression.\n",
    "\n",
    "import seaborn as sns\n",
    "import matplotlib.pyplot as plt\n",
    "import os\n",
    "\n",
    "# 💾 Ensure the folder exists\n",
    "os.makedirs(\"../results/plots\", exist_ok=True)\n",
    "\n",
    "# Set a better style\n",
    "sns.set(style=\"whitegrid\")\n",
    "\n",
    "plt.figure(figsize=(8, 6))  # Set figure size\n",
    "\n",
    "# Count plot by group\n",
    "ax = sns.countplot(data=meta_df, x=\"Group\", palette=\"viridis\", edgecolor=\".2\")\n",
    "\n",
    "# Add counts on top of bars (✨ aesthetic + informative)\n",
    "for p in ax.patches:\n",
    "    height = p.get_height()\n",
    "    ax.annotate(f'{height}', (p.get_x() + p.get_width() / 2., height + 0.1),\n",
    "                ha='center', va='center', fontsize=10, color='black', xytext=(0, 5),\n",
    "                textcoords='offset points')\n",
    "\n",
    "# Titles and labels\n",
    "plt.title(\"Sample Distribution Across Experimental Groups\", fontsize=14, fontweight='bold')\n",
    "plt.xlabel(\"Experimental Group\", fontsize=12)\n",
    "plt.ylabel(\"Replicate Count\", fontsize=12)\n",
    "plt.xticks(rotation=0)\n",
    "plt.tight_layout()\n",
    "\n",
    "# 💾 Save the plot before showing\n",
    "save_path = \"../results/plots/sample_distribution.png\"\n",
    "plt.savefig(save_path, dpi=300, bbox_inches='tight')  # High-res save\n",
    "\n",
    "# also export as PDF or SVG for vector quality\n",
    "#plt.savefig(\"../results/plots/sample_distribution.pdf\")\n",
    "#plt.savefig(\"../results/plots/sample_distribution.svg\")\n",
    "\n",
    "\n",
    "# Show the plot\n",
    "plt.show()\n",
    "\n",
    "print(f\"✅ Plot saved to: {save_path}\")\n"
   ]
  }
 ],
 "metadata": {
  "kernelspec": {
   "display_name": "Python (t2d-env)",
   "language": "python",
   "name": "t2d-env"
  },
  "language_info": {
   "codemirror_mode": {
    "name": "ipython",
    "version": 3
   },
   "file_extension": ".py",
   "mimetype": "text/x-python",
   "name": "python",
   "nbconvert_exporter": "python",
   "pygments_lexer": "ipython3",
   "version": "3.11.8"
  }
 },
 "nbformat": 4,
 "nbformat_minor": 5
}
